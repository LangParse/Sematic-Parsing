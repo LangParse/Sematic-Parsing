{
 "cells": [
  {
   "cell_type": "markdown",
   "id": "19fd699f",
   "metadata": {},
   "source": [
    "# Semantic Parsing Project\n",
    "\n",
    "This notebook demonstrates the data pipeline and provides exploratory data analysis (EDA) for the AMR dataset."
   ]
  },
  {
   "cell_type": "code",
   "execution_count": null,
   "id": "7dbd99f8",
   "metadata": {},
   "outputs": [],
   "source": [
    "# List files in raw data folder\n",
    "import os\n",
    "\n",
    "raw_dir = \"../data/raw\"\n",
    "print(os.listdir(raw_dir))"
   ]
  },
  {
   "cell_type": "code",
   "execution_count": null,
   "id": "1b255a69",
   "metadata": {},
   "outputs": [],
   "source": [
    "# Example: Clean AMR file\n",
    "from src.data.clean_amr import clean_amr_file\n",
    "\n",
    "input_path = \"../data/raw/train_amr_1.txt\"\n",
    "output_path = \"../data/interim/input_amr.txt\"\n",
    "clean_amr_file(input_path, output_path)"
   ]
  },
  {
   "cell_type": "code",
   "execution_count": null,
   "id": "3fa3fcb3",
   "metadata": {},
   "outputs": [],
   "source": [
    "# Example: Convert cleaned AMR to JSON\n",
    "from src.data.amr_to_json import amr_to_json\n",
    "\n",
    "input_path = \"../data/interim/input_amr.txt\"\n",
    "output_path = \"../data/processed/amr_data.json\"\n",
    "amr_to_json(input_path, output_path)"
   ]
  },
  {
   "cell_type": "code",
   "execution_count": null,
   "id": "08c3d07e",
   "metadata": {},
   "outputs": [],
   "source": [
    "# Example: Tokenize data\n",
    "from src.data.tokenize_data import tokenize_amr_data\n",
    "\n",
    "input_json = \"../data/processed/amr_data.json\"\n",
    "output_tokens = \"../data/processed/tokenized_data.txt\"\n",
    "tokenize_amr_data(input_json, output_path=output_tokens)"
   ]
  }
 ],
 "metadata": {
  "language_info": {
   "name": "python"
  }
 },
 "nbformat": 4,
 "nbformat_minor": 5
}
