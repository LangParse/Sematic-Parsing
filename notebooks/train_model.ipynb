{
  "cells": [
    {
      "cell_type": "code",
      "execution_count": 2,
      "metadata": {
        "colab": {
          "base_uri": "https://localhost:8080/"
        },
        "id": "XT4Nkpf3FThU",
        "outputId": "50c58438-5499-40da-8c48-3e707bba0425"
      },
      "outputs": [
        {
          "output_type": "stream",
          "name": "stdout",
          "text": [
            "Drive already mounted at /content/drive; to attempt to forcibly remount, call drive.mount(\"/content/drive\", force_remount=True).\n",
            "[Errno 2] No such file or directory: 'drive/MyDrive/CITD'\n",
            "/content/drive/MyDrive/CITD/semantic-parsing\n",
            "[Errno 2] No such file or directory: 'semantic-parsing'\n",
            "/content/drive/MyDrive/CITD/semantic-parsing\n",
            "remote: Enumerating objects: 7, done.\u001b[K\n",
            "remote: Counting objects: 100% (7/7), done.\u001b[K\n",
            "remote: Compressing objects: 100% (3/3), done.\u001b[K\n",
            "remote: Total 4 (delta 1), reused 0 (delta 0), pack-reused 0 (from 0)\u001b[K\n",
            "Unpacking objects: 100% (4/4), 1.33 KiB | 27.00 KiB/s, done.\n",
            "From https://github.com/LangParse/semantic-parsing\n",
            " * branch            develop    -> FETCH_HEAD\n",
            "   2c2033d..67515e3  develop    -> origin/develop\n",
            "Updating 2c2033d..67515e3\n",
            "Fast-forward\n",
            " notebooks/train_model.ipynb | 116 \u001b[32m+++++++++++++++++++++++++++++++++++++++++++\u001b[m\u001b[31m-\u001b[m\n",
            " 1 file changed, 115 insertions(+), 1 deletion(-)\n"
          ]
        }
      ],
      "source": [
        "from google.colab import drive\n",
        "drive.mount('/content/drive')\n",
        "%cd drive/MyDrive/CITD\n",
        "# !git clone https://github.com/LangParse/semantic-parsing.git\n",
        "%cd semantic-parsing\n",
        "# !git pull origin develop"
      ]
    },
    {
      "cell_type": "code",
      "execution_count": null,
      "metadata": {
        "id": "f0wR6Io8G8rn"
      },
      "outputs": [],
      "source": [
        "!pip install -q virtualenv\n",
        "!virtualenv .venv"
      ]
    },
    {
      "cell_type": "code",
      "source": [
        "!source .venv/bin/activate"
      ],
      "metadata": {
        "id": "ge-hb6hPPfEz"
      },
      "execution_count": null,
      "outputs": []
    },
    {
      "cell_type": "code",
      "source": [
        "!pip install --upgrade pip\n",
        "!pip install -r requirements.txt"
      ],
      "metadata": {
        "id": "yGzd9IbY-V-L"
      },
      "execution_count": null,
      "outputs": []
    },
    {
      "cell_type": "code",
      "execution_count": null,
      "metadata": {
        "id": "AUU8Bvy_GDIf",
        "collapsed": true
      },
      "outputs": [],
      "source": [
        "!python main.py"
      ]
    }
  ],
  "metadata": {
    "colab": {
      "gpuType": "T4",
      "provenance": [],
      "authorship_tag": "ABX9TyOJuFrnIaZvnE7ZZwuOQipa"
    },
    "kernelspec": {
      "display_name": "Python 3",
      "name": "python3"
    },
    "language_info": {
      "name": "python"
    },
    "accelerator": "GPU"
  },
  "nbformat": 4,
  "nbformat_minor": 0
}