{
  "cells": [
    {
      "cell_type": "code",
      "execution_count": null,
      "metadata": {
        "id": "XT4Nkpf3FThU"
      },
      "outputs": [],
      "source": [
        "from google.colab import drive\n",
        "drive.mount('/content/drive')\n",
        "%cd drive/MyDrive/CITD"
      ]
    },
    {
      "cell_type": "code",
      "source": [
        "!git clone https://github.com/LangParse/semantic-parsing.git"
      ],
      "metadata": {
        "id": "wzJzirbjMdpH"
      },
      "execution_count": null,
      "outputs": []
    },
    {
      "cell_type": "code",
      "source": [
        "%cd semantic-parsing\n",
        "# !git pull origin develop"
      ],
      "metadata": {
        "id": "ajDlgRfNMhIu"
      },
      "execution_count": null,
      "outputs": []
    },
    {
      "cell_type": "code",
      "source": [
        "!pip install amrlib peft optuna penman"
      ],
      "metadata": {
        "id": "yGzd9IbY-V-L"
      },
      "execution_count": null,
      "outputs": []
    },
    {
      "cell_type": "code",
      "execution_count": null,
      "metadata": {
        "id": "AUU8Bvy_GDIf",
        "collapsed": true
      },
      "outputs": [],
      "source": [
        "!python main.py"
      ]
    }
  ],
  "metadata": {
    "colab": {
      "gpuType": "T4",
      "provenance": []
    },
    "kernelspec": {
      "display_name": "Python 3",
      "name": "python3"
    },
    "language_info": {
      "name": "python"
    },
    "accelerator": "GPU"
  },
  "nbformat": 4,
  "nbformat_minor": 0
}