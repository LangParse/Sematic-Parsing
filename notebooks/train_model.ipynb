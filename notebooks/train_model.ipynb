{
  "cells": [
    {
      "cell_type": "markdown",
      "metadata": {
        "id": "view-in-github",
        "colab_type": "text"
      },
      "source": [
        "<a href=\"https://colab.research.google.com/github/LangParse/semantic-parsing/blob/develop/notebooks/train_model.ipynb\" target=\"_parent\"><img src=\"https://colab.research.google.com/assets/colab-badge.svg\" alt=\"Open In Colab\"/></a>"
      ]
    },
    {
      "cell_type": "code",
      "execution_count": 1,
      "metadata": {
        "colab": {
          "base_uri": "https://localhost:8080/"
        },
        "id": "XT4Nkpf3FThU",
        "outputId": "1854f827-bb1c-4b79-9561-e21c8dbb0364"
      },
      "outputs": [
        {
          "output_type": "stream",
          "name": "stdout",
          "text": [
            "Mounted at /content/drive\n",
            "/content/drive/MyDrive/CITD\n",
            "Cloning into 'semantic-parsing'...\n",
            "remote: Enumerating objects: 79, done.\u001b[K\n",
            "remote: Counting objects: 100% (79/79), done.\u001b[K\n",
            "remote: Compressing objects: 100% (60/60), done.\u001b[K\n",
            "remote: Total 79 (delta 16), reused 67 (delta 8), pack-reused 0 (from 0)\u001b[K\n",
            "Receiving objects: 100% (79/79), 158.19 KiB | 5.45 MiB/s, done.\n",
            "Resolving deltas: 100% (16/16), done.\n",
            "/content/drive/MyDrive/CITD/semantic-parsing\n"
          ]
        }
      ],
      "source": [
        "from google.colab import drive\n",
        "drive.mount('/content/drive')\n",
        "%cd drive/MyDrive/CITD\n",
        "# !git clone https://github.com/LangParse/semantic-parsing.git\n",
        "%cd semantic-parsing"
      ]
    },
    {
      "cell_type": "code",
      "execution_count": null,
      "metadata": {
        "id": "f0wR6Io8G8rn"
      },
      "outputs": [],
      "source": [
        "!pip install -q virtualenv\n",
        "!virtualenv .venv"
      ]
    },
    {
      "cell_type": "code",
      "source": [
        "!source .venv/bin/activate"
      ],
      "metadata": {
        "id": "ge-hb6hPPfEz"
      },
      "execution_count": null,
      "outputs": []
    },
    {
      "cell_type": "code",
      "source": [
        "!pip install --upgrade pip\n",
        "!pip install -r requirements.txt"
      ],
      "metadata": {
        "id": "yGzd9IbY-V-L"
      },
      "execution_count": null,
      "outputs": []
    },
    {
      "cell_type": "code",
      "execution_count": null,
      "metadata": {
        "id": "AUU8Bvy_GDIf",
        "collapsed": true
      },
      "outputs": [],
      "source": [
        "!python main.py"
      ]
    }
  ],
  "metadata": {
    "colab": {
      "gpuType": "T4",
      "provenance": [],
      "authorship_tag": "ABX9TyM2e1qdCTrMTYZ1MnJW+RcO",
      "include_colab_link": true
    },
    "kernelspec": {
      "display_name": "Python 3",
      "name": "python3"
    },
    "language_info": {
      "name": "python"
    },
    "accelerator": "GPU"
  },
  "nbformat": 4,
  "nbformat_minor": 0
}